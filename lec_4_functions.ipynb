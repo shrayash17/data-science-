{
 "cells": [
  {
   "cell_type": "code",
   "execution_count": 3,
   "id": "8b4971fc",
   "metadata": {},
   "outputs": [],
   "source": [
    "def is_even(num):\n",
    "    \"\"\"\n",
    "    This function checks for even odd \n",
    "    input: any valid integer \n",
    "    output: odd/even \n",
    "    \n",
    "    \n",
    "    \"\"\"\n",
    "    if num%2==0:\n",
    "        return True\n",
    "    else:\n",
    "        return False"
   ]
  },
  {
   "cell_type": "code",
   "execution_count": 4,
   "id": "d2cb7533",
   "metadata": {},
   "outputs": [
    {
     "data": {
      "text/plain": [
       "True"
      ]
     },
     "execution_count": 4,
     "metadata": {},
     "output_type": "execute_result"
    }
   ],
   "source": [
    "is_even(4)"
   ]
  },
  {
   "cell_type": "code",
   "execution_count": 5,
   "id": "60603fb1",
   "metadata": {},
   "outputs": [
    {
     "data": {
      "text/plain": [
       "False"
      ]
     },
     "execution_count": 5,
     "metadata": {},
     "output_type": "execute_result"
    }
   ],
   "source": [
    "is_even(3)"
   ]
  },
  {
   "cell_type": "code",
   "execution_count": 6,
   "id": "437b81e6",
   "metadata": {},
   "outputs": [
    {
     "name": "stdout",
     "output_type": "stream",
     "text": [
      "2\n",
      "4\n",
      "6\n",
      "8\n",
      "10\n"
     ]
    }
   ],
   "source": [
    "for i in range(1,11):\n",
    "    if(is_even(i)):\n",
    "        print(i)"
   ]
  },
  {
   "cell_type": "code",
   "execution_count": 8,
   "id": "d03c84a6",
   "metadata": {},
   "outputs": [
    {
     "name": "stdout",
     "output_type": "stream",
     "text": [
      "1\n",
      "2\n"
     ]
    },
    {
     "data": {
      "text/plain": [
       "8"
      ]
     },
     "execution_count": 8,
     "metadata": {},
     "output_type": "execute_result"
    }
   ],
   "source": [
    "def power(a=1,b=1):\n",
    "    return a**b\n",
    "\n",
    "\n",
    "\n",
    "print(power())\n",
    "print(power(2))\n",
    "power(2,3)"
   ]
  },
  {
   "cell_type": "code",
   "execution_count": 9,
   "id": "3f1f2a7f",
   "metadata": {},
   "outputs": [],
   "source": [
    "# arguments \n",
    "\n",
    "# default \n",
    "# positional \n",
    "# keyword "
   ]
  },
  {
   "cell_type": "code",
   "execution_count": 10,
   "id": "84e4d9f0",
   "metadata": {},
   "outputs": [
    {
     "name": "stdout",
     "output_type": "stream",
     "text": [
      "6\n"
     ]
    }
   ],
   "source": [
    "def pow(a,b):\n",
    "    return a*b\n",
    "\n",
    "print(pow(2,3))"
   ]
  },
  {
   "cell_type": "code",
   "execution_count": 11,
   "id": "ec988ed0",
   "metadata": {},
   "outputs": [
    {
     "name": "stdout",
     "output_type": "stream",
     "text": [
      "6\n"
     ]
    }
   ],
   "source": [
    "def pow(a=2,b=3):\n",
    "    return a*b\n",
    "\n",
    "\n",
    "print(pow())"
   ]
  },
  {
   "cell_type": "code",
   "execution_count": 12,
   "id": "2926561a",
   "metadata": {},
   "outputs": [
    {
     "name": "stdout",
     "output_type": "stream",
     "text": [
      "3\n"
     ]
    }
   ],
   "source": [
    "def sum(a,b):\n",
    "    return a+b\n",
    "\n",
    "print(sum(b=2,a=1))"
   ]
  },
  {
   "cell_type": "code",
   "execution_count": 13,
   "id": "4f115f23",
   "metadata": {},
   "outputs": [
    {
     "name": "stdout",
     "output_type": "stream",
     "text": [
      "8\n"
     ]
    }
   ],
   "source": [
    "def pow(a,b):\n",
    "    return a**b\n",
    "print(pow(b=3,a=2))"
   ]
  },
  {
   "cell_type": "code",
   "execution_count": 19,
   "id": "f9b474b8",
   "metadata": {},
   "outputs": [
    {
     "data": {
      "text/plain": [
       "120"
      ]
     },
     "execution_count": 19,
     "metadata": {},
     "output_type": "execute_result"
    }
   ],
   "source": [
    "# args for single parameter \n",
    "\n",
    "def mul(*args):\n",
    "    product=1\n",
    "    \n",
    "    for i in args:\n",
    "        product=product * i\n",
    "    return product\n",
    "\n",
    "mul(1,2,3,4,5)"
   ]
  },
  {
   "cell_type": "code",
   "execution_count": 23,
   "id": "2cc064a0",
   "metadata": {},
   "outputs": [
    {
     "name": "stdout",
     "output_type": "stream",
     "text": [
      "india india\n",
      "pakis pakis\n"
     ]
    }
   ],
   "source": [
    "# kwargs for dictionary \n",
    "\n",
    "def kwa(**kwargs):\n",
    "    for (key,value) in kwargs.items():\n",
    "        print(key , value)\n",
    "        \n",
    "        \n",
    "kwa(india='india',pakis='pakis')"
   ]
  },
  {
   "cell_type": "code",
   "execution_count": 26,
   "id": "d3de5c4a",
   "metadata": {},
   "outputs": [
    {
     "name": "stdout",
     "output_type": "stream",
     "text": [
      "10\n",
      "None\n"
     ]
    }
   ],
   "source": [
    "def alsi(a):\n",
    "    print(a)\n",
    "    \n",
    "print(alsi(10))"
   ]
  },
  {
   "cell_type": "code",
   "execution_count": 30,
   "id": "3ae82905",
   "metadata": {},
   "outputs": [
    {
     "name": "stdout",
     "output_type": "stream",
     "text": [
      "6\n",
      "5\n"
     ]
    }
   ],
   "source": [
    "def p(x):\n",
    "    x=x+1\n",
    "    print(x)\n",
    "x=5\n",
    "p(x)\n",
    "print(x)"
   ]
  },
  {
   "cell_type": "code",
   "execution_count": 31,
   "id": "873c67f7",
   "metadata": {},
   "outputs": [
    {
     "name": "stdout",
     "output_type": "stream",
     "text": [
      "6\n",
      "6\n"
     ]
    }
   ],
   "source": [
    "# understand global \n",
    "def p(y):\n",
    "    global x\n",
    "    x=x+1\n",
    "    print(x)\n",
    "    \n",
    "x=5\n",
    "p(x)\n",
    "print(x)\n",
    "    "
   ]
  },
  {
   "cell_type": "markdown",
   "id": "c27e7921",
   "metadata": {},
   "source": [
    "# like variable datatypes \n",
    "\n",
    "# function too are first class function    "
   ]
  },
  {
   "cell_type": "code",
   "execution_count": 32,
   "id": "a4219e91",
   "metadata": {},
   "outputs": [
    {
     "data": {
      "text/plain": [
       "function"
      ]
     },
     "execution_count": 32,
     "metadata": {},
     "output_type": "execute_result"
    }
   ],
   "source": [
    "def power(a):\n",
    "    return a*a\n",
    "\n",
    "\n",
    "y = power\n",
    "type(y)"
   ]
  },
  {
   "cell_type": "markdown",
   "id": "132e22fa",
   "metadata": {},
   "source": [
    "# function returning a function "
   ]
  },
  {
   "cell_type": "code",
   "execution_count": 33,
   "id": "398563a9",
   "metadata": {},
   "outputs": [
    {
     "name": "stdout",
     "output_type": "stream",
     "text": [
      "7\n"
     ]
    }
   ],
   "source": [
    "def f():\n",
    "    def g(a , b):\n",
    "        return a+b\n",
    "    \n",
    "    return g\n",
    "\n",
    "z=f()(3,4)\n",
    "print(z)"
   ]
  },
  {
   "cell_type": "markdown",
   "id": "09b71c3c",
   "metadata": {},
   "source": [
    "# lambda functions "
   ]
  },
  {
   "cell_type": "code",
   "execution_count": 34,
   "id": "e9034790",
   "metadata": {},
   "outputs": [
    {
     "data": {
      "text/plain": [
       "16"
      ]
     },
     "execution_count": 34,
     "metadata": {},
     "output_type": "execute_result"
    }
   ],
   "source": [
    "a = lambda a:a*a\n",
    "a(4)"
   ]
  },
  {
   "cell_type": "code",
   "execution_count": 35,
   "id": "be2ffe21",
   "metadata": {},
   "outputs": [
    {
     "data": {
      "text/plain": [
       "7"
      ]
     },
     "execution_count": 35,
     "metadata": {},
     "output_type": "execute_result"
    }
   ],
   "source": [
    "l = lambda a,b : a+b \n",
    "l(3,4)\n"
   ]
  },
  {
   "cell_type": "code",
   "execution_count": 36,
   "id": "0edad979",
   "metadata": {},
   "outputs": [
    {
     "data": {
      "text/plain": [
       "0"
      ]
     },
     "execution_count": 36,
     "metadata": {},
     "output_type": "execute_result"
    }
   ],
   "source": [
    "a = lambda s,c:s.find(c)\n",
    "a('delhi','d')"
   ]
  },
  {
   "cell_type": "code",
   "execution_count": 37,
   "id": "6b977e45",
   "metadata": {},
   "outputs": [
    {
     "data": {
      "text/plain": [
       "True"
      ]
     },
     "execution_count": 37,
     "metadata": {},
     "output_type": "execute_result"
    }
   ],
   "source": [
    "a = lambda s,c:c in s\n",
    "a('delhi','d')"
   ]
  },
  {
   "cell_type": "code",
   "execution_count": 38,
   "id": "f3add4ed",
   "metadata": {},
   "outputs": [
    {
     "data": {
      "text/plain": [
       "True"
      ]
     },
     "execution_count": 38,
     "metadata": {},
     "output_type": "execute_result"
    }
   ],
   "source": [
    "a = lambda x : x%2==0\n",
    "a(2)"
   ]
  },
  {
   "cell_type": "code",
   "execution_count": null,
   "id": "305f4f15",
   "metadata": {},
   "outputs": [],
   "source": []
  }
 ],
 "metadata": {
  "kernelspec": {
   "display_name": "Python 3 (ipykernel)",
   "language": "python",
   "name": "python3"
  },
  "language_info": {
   "codemirror_mode": {
    "name": "ipython",
    "version": 3
   },
   "file_extension": ".py",
   "mimetype": "text/x-python",
   "name": "python",
   "nbconvert_exporter": "python",
   "pygments_lexer": "ipython3",
   "version": "3.10.9"
  }
 },
 "nbformat": 4,
 "nbformat_minor": 5
}
