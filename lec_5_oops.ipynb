{
 "cells": [
  {
   "cell_type": "code",
   "execution_count": 1,
   "id": "487e84b3",
   "metadata": {},
   "outputs": [],
   "source": [
    "# aggregations "
   ]
  },
  {
   "cell_type": "code",
   "execution_count": 8,
   "id": "f8305e5e",
   "metadata": {},
   "outputs": [
    {
     "name": "stdout",
     "output_type": "stream",
     "text": [
      "pune mah\n"
     ]
    }
   ],
   "source": [
    "class Person:\n",
    "    def __init__(self,name,age,address):\n",
    "        self.name=name;\n",
    "        self.age=age;\n",
    "        self.address=address\n",
    "        \n",
    "        \n",
    "    def display(self):\n",
    "        print(self.address.getadd(),self.address.dist)\n",
    "        \n",
    "        \n",
    "        \n",
    "class Address:\n",
    "    def __init__(self,city,dist):\n",
    "        self.__city=city\n",
    "        self.dist=dist\n",
    "        \n",
    "    def getadd(self):\n",
    "        return self.__city\n",
    "        \n",
    "a=Address('pune','mah')\n",
    "p=Person('shrayash',17,a)\n",
    "\n",
    "p.display()\n"
   ]
  },
  {
   "cell_type": "code",
   "execution_count": 16,
   "id": "87dae188",
   "metadata": {},
   "outputs": [
    {
     "name": "stdout",
     "output_type": "stream",
     "text": [
      "shrayash\n",
      "enroll into the course \n"
     ]
    }
   ],
   "source": [
    "class user :\n",
    "    def __init__(self):\n",
    "        self.name='shrayash'\n",
    "        \n",
    "    def login(self):\n",
    "        print('enroll')\n",
    "        \n",
    "class student(user):\n",
    "    \n",
    "        \n",
    "    def course(self):\n",
    "        print(\"enroll into the course \")\n",
    "        \n",
    "\n",
    "s=student()\n",
    "print(s.name)\n",
    "# s.login()\n",
    "# s.roll_no\n",
    "s.course()\n"
   ]
  },
  {
   "cell_type": "code",
   "execution_count": null,
   "id": "f9a57907",
   "metadata": {},
   "outputs": [],
   "source": []
  }
 ],
 "metadata": {
  "kernelspec": {
   "display_name": "Python 3 (ipykernel)",
   "language": "python",
   "name": "python3"
  },
  "language_info": {
   "codemirror_mode": {
    "name": "ipython",
    "version": 3
   },
   "file_extension": ".py",
   "mimetype": "text/x-python",
   "name": "python",
   "nbconvert_exporter": "python",
   "pygments_lexer": "ipython3",
   "version": "3.10.9"
  }
 },
 "nbformat": 4,
 "nbformat_minor": 5
}
