{
 "cells": [
  {
   "cell_type": "markdown",
   "id": "ac0512e7",
   "metadata": {},
   "source": [
    "# Strings in python \n",
    "\n",
    "# declarations "
   ]
  },
  {
   "cell_type": "code",
   "execution_count": 1,
   "id": "8c7ea1fa",
   "metadata": {},
   "outputs": [],
   "source": [
    "s=\"hello\""
   ]
  },
  {
   "cell_type": "code",
   "execution_count": 2,
   "id": "780060ba",
   "metadata": {},
   "outputs": [
    {
     "name": "stdout",
     "output_type": "stream",
     "text": [
      "hello\n"
     ]
    }
   ],
   "source": [
    "s='hello'\n",
    "print(s)"
   ]
  },
  {
   "cell_type": "code",
   "execution_count": 3,
   "id": "b70526ac",
   "metadata": {},
   "outputs": [
    {
     "name": "stdout",
     "output_type": "stream",
     "text": [
      "hello\n"
     ]
    }
   ],
   "source": [
    "s='''hello'''\n",
    "print(s)"
   ]
  },
  {
   "cell_type": "code",
   "execution_count": 4,
   "id": "a5b81593",
   "metadata": {},
   "outputs": [
    {
     "name": "stdout",
     "output_type": "stream",
     "text": [
      "hello\n"
     ]
    }
   ],
   "source": [
    "s=\"\"\"hello\"\"\"\n",
    "print(s)"
   ]
  },
  {
   "cell_type": "markdown",
   "id": "72d13307",
   "metadata": {},
   "source": [
    "# accesgin substring from strings "
   ]
  },
  {
   "cell_type": "code",
   "execution_count": 5,
   "id": "0331e4cd",
   "metadata": {},
   "outputs": [
    {
     "name": "stdout",
     "output_type": "stream",
     "text": [
      "h\n"
     ]
    }
   ],
   "source": [
    "s=\"hello\"\n",
    "print(s[0])"
   ]
  },
  {
   "cell_type": "code",
   "execution_count": 6,
   "id": "d2f0e555",
   "metadata": {},
   "outputs": [
    {
     "name": "stdout",
     "output_type": "stream",
     "text": [
      "he\n"
     ]
    }
   ],
   "source": [
    "print(s[0:2])"
   ]
  },
  {
   "cell_type": "code",
   "execution_count": 7,
   "id": "8bd767a3",
   "metadata": {},
   "outputs": [
    {
     "name": "stdout",
     "output_type": "stream",
     "text": [
      "o\n"
     ]
    }
   ],
   "source": [
    "print(s[-1])"
   ]
  },
  {
   "cell_type": "code",
   "execution_count": 8,
   "id": "c2ba3b3e",
   "metadata": {},
   "outputs": [
    {
     "name": "stdout",
     "output_type": "stream",
     "text": [
      "hell\n"
     ]
    }
   ],
   "source": [
    "print(s[:-1])"
   ]
  },
  {
   "cell_type": "code",
   "execution_count": 9,
   "id": "e0347650",
   "metadata": {},
   "outputs": [
    {
     "name": "stdout",
     "output_type": "stream",
     "text": [
      "olleh\n"
     ]
    }
   ],
   "source": [
    "print(s[::-1])"
   ]
  },
  {
   "cell_type": "code",
   "execution_count": 11,
   "id": "cdfddc58",
   "metadata": {},
   "outputs": [
    {
     "name": "stdout",
     "output_type": "stream",
     "text": [
      "hello\n"
     ]
    }
   ],
   "source": [
    "print(s[0::1])"
   ]
  },
  {
   "cell_type": "code",
   "execution_count": 13,
   "id": "f4a64779",
   "metadata": {},
   "outputs": [
    {
     "name": "stdout",
     "output_type": "stream",
     "text": [
      "delhimumbai kol\n"
     ]
    }
   ],
   "source": [
    "print('delhi'+ 'mumbai' , 'kol', sep=\" \")"
   ]
  },
  {
   "cell_type": "code",
   "execution_count": 14,
   "id": "28f8cb48",
   "metadata": {},
   "outputs": [
    {
     "name": "stdout",
     "output_type": "stream",
     "text": [
      "**************************************************\n"
     ]
    }
   ],
   "source": [
    "print(\"*\"*50)"
   ]
  },
  {
   "cell_type": "code",
   "execution_count": 17,
   "id": "2bffe69a",
   "metadata": {},
   "outputs": [
    {
     "name": "stdout",
     "output_type": "stream",
     "text": [
      "pune\n",
      "pune\n",
      "pune\n",
      "pune\n",
      "pune\n"
     ]
    }
   ],
   "source": [
    "for d in 'delhi':\n",
    "    print(\"pune\")"
   ]
  },
  {
   "cell_type": "code",
   "execution_count": 18,
   "id": "c1c55905",
   "metadata": {},
   "outputs": [
    {
     "data": {
      "text/plain": [
       "'pune'"
      ]
     },
     "execution_count": 18,
     "metadata": {},
     "output_type": "execute_result"
    }
   ],
   "source": [
    "'hello' and 'pune'"
   ]
  },
  {
   "cell_type": "code",
   "execution_count": 19,
   "id": "c0fd7740",
   "metadata": {},
   "outputs": [
    {
     "data": {
      "text/plain": [
       "'hello'"
      ]
     },
     "execution_count": 19,
     "metadata": {},
     "output_type": "execute_result"
    }
   ],
   "source": [
    "'hello' or 'pune'"
   ]
  },
  {
   "cell_type": "markdown",
   "id": "7034464f",
   "metadata": {},
   "source": [
    "# common functions in strings  "
   ]
  },
  {
   "cell_type": "code",
   "execution_count": 20,
   "id": "199c3f45",
   "metadata": {},
   "outputs": [
    {
     "data": {
      "text/plain": [
       "16"
      ]
     },
     "execution_count": 20,
     "metadata": {},
     "output_type": "execute_result"
    }
   ],
   "source": [
    "len(\"shrayash gawade \")"
   ]
  },
  {
   "cell_type": "code",
   "execution_count": 21,
   "id": "ac03ad03",
   "metadata": {},
   "outputs": [
    {
     "data": {
      "text/plain": [
       "21"
      ]
     },
     "execution_count": 21,
     "metadata": {},
     "output_type": "execute_result"
    }
   ],
   "source": [
    "len(\"shrayash ashok gawade\")"
   ]
  },
  {
   "cell_type": "code",
   "execution_count": 23,
   "id": "198f87c1",
   "metadata": {},
   "outputs": [
    {
     "data": {
      "text/plain": [
       "['o', 'l', 'l', 'h', 'e']"
      ]
     },
     "execution_count": 23,
     "metadata": {},
     "output_type": "execute_result"
    }
   ],
   "source": [
    "s=\"hello\"\n",
    "\n",
    "sorted(s, reverse=True)"
   ]
  },
  {
   "cell_type": "code",
   "execution_count": 24,
   "id": "664a41d1",
   "metadata": {},
   "outputs": [
    {
     "data": {
      "text/plain": [
       "'Hello world'"
      ]
     },
     "execution_count": 24,
     "metadata": {},
     "output_type": "execute_result"
    }
   ],
   "source": [
    "s='hello world'\n",
    "\n",
    "#only first letter \n",
    "s.capitalize()"
   ]
  },
  {
   "cell_type": "code",
   "execution_count": 25,
   "id": "ce2492d5",
   "metadata": {},
   "outputs": [
    {
     "data": {
      "text/plain": [
       "'Hello World'"
      ]
     },
     "execution_count": 25,
     "metadata": {},
     "output_type": "execute_result"
    }
   ],
   "source": [
    "s.title()\n",
    "\n",
    "#all characters first letters"
   ]
  },
  {
   "cell_type": "code",
   "execution_count": 26,
   "id": "d902e390",
   "metadata": {},
   "outputs": [
    {
     "data": {
      "text/plain": [
       "'HELLO WORLD'"
      ]
     },
     "execution_count": 26,
     "metadata": {},
     "output_type": "execute_result"
    }
   ],
   "source": [
    "s.upper()"
   ]
  },
  {
   "cell_type": "raw",
   "id": "bc5c3469",
   "metadata": {},
   "source": [
    "s.lower()"
   ]
  },
  {
   "cell_type": "code",
   "execution_count": 28,
   "id": "c5e27bd1",
   "metadata": {},
   "outputs": [
    {
     "data": {
      "text/plain": [
       "'hello world'"
      ]
     },
     "execution_count": 28,
     "metadata": {},
     "output_type": "execute_result"
    }
   ],
   "source": [
    "s.lower()"
   ]
  },
  {
   "cell_type": "code",
   "execution_count": 33,
   "id": "520c2059",
   "metadata": {},
   "outputs": [
    {
     "data": {
      "text/plain": [
       "1"
      ]
     },
     "execution_count": 33,
     "metadata": {},
     "output_type": "execute_result"
    }
   ],
   "source": [
    "'shrayash gawade '.count('e')"
   ]
  },
  {
   "cell_type": "code",
   "execution_count": 35,
   "id": "40e48548",
   "metadata": {},
   "outputs": [
    {
     "data": {
      "text/plain": [
       "3"
      ]
     },
     "execution_count": 35,
     "metadata": {},
     "output_type": "execute_result"
    }
   ],
   "source": [
    "'shryash'.find('y')"
   ]
  },
  {
   "cell_type": "code",
   "execution_count": 36,
   "id": "78175b07",
   "metadata": {},
   "outputs": [
    {
     "data": {
      "text/plain": [
       "True"
      ]
     },
     "execution_count": 36,
     "metadata": {},
     "output_type": "execute_result"
    }
   ],
   "source": [
    "'shrayash'.startswith('sh')"
   ]
  },
  {
   "cell_type": "code",
   "execution_count": 37,
   "id": "a8cde1f4",
   "metadata": {},
   "outputs": [
    {
     "data": {
      "text/plain": [
       "True"
      ]
     },
     "execution_count": 37,
     "metadata": {},
     "output_type": "execute_result"
    }
   ],
   "source": [
    "'shrayash'.endswith(\"sh\")"
   ]
  },
  {
   "cell_type": "markdown",
   "id": "efc308d4",
   "metadata": {},
   "source": [
    "# format "
   ]
  },
  {
   "cell_type": "code",
   "execution_count": 42,
   "id": "c0602973",
   "metadata": {},
   "outputs": [
    {
     "name": "stdout",
     "output_type": "stream",
     "text": [
      "my name is 15 and my age is shrayash\n"
     ]
    }
   ],
   "source": [
    "name='shrayash'\n",
    "age=15\n",
    "\n",
    "print('my name is {} and my age is {}'.format(age,name))"
   ]
  },
  {
   "cell_type": "code",
   "execution_count": 45,
   "id": "89acbc65",
   "metadata": {},
   "outputs": [
    {
     "name": "stdout",
     "output_type": "stream",
     "text": [
      "hello\n"
     ]
    }
   ],
   "source": [
    "\n",
    "s='hello    '.strip()\n",
    "print(s)\n"
   ]
  },
  {
   "cell_type": "code",
   "execution_count": 48,
   "id": "6918fe06",
   "metadata": {},
   "outputs": [
    {
     "name": "stdout",
     "output_type": "stream",
     "text": [
      "enter string : shrayash\n",
      "s\n",
      "h\n",
      "r\n",
      "a\n",
      "y\n",
      "a\n",
      "s\n",
      "h\n",
      "8\n"
     ]
    }
   ],
   "source": [
    "# find len of string without using len function \n",
    "\n",
    "s = input(\"enter string : \")\n",
    "count=0;\n",
    "for i in s:\n",
    "    print(i)\n",
    "    count=count+1\n",
    "    \n",
    "    \n",
    "print(count)"
   ]
  },
  {
   "cell_type": "code",
   "execution_count": 49,
   "id": "9cb3acdf",
   "metadata": {},
   "outputs": [
    {
     "name": "stdout",
     "output_type": "stream",
     "text": [
      "enter username:shreyash@gmail.com\n"
     ]
    },
    {
     "data": {
      "text/plain": [
       "['shreyash', 'gmail.com']"
      ]
     },
     "execution_count": 49,
     "metadata": {},
     "output_type": "execute_result"
    }
   ],
   "source": [
    "# extract username from email \n",
    "s=input(\"enter username:\")\n",
    "s.split('@')"
   ]
  },
  {
   "cell_type": "code",
   "execution_count": 52,
   "id": "23265bc8",
   "metadata": {},
   "outputs": [
    {
     "name": "stdout",
     "output_type": "stream",
     "text": [
      "enter username:shreyash@gmail.com\n",
      "shreyash\n"
     ]
    }
   ],
   "source": [
    "# extract username from email \n",
    "s=input(\"enter username:\")\n",
    "print(s[0:s.index('@')])"
   ]
  },
  {
   "cell_type": "code",
   "execution_count": 54,
   "id": "3d19fe54",
   "metadata": {},
   "outputs": [
    {
     "name": "stdout",
     "output_type": "stream",
     "text": [
      "enter username:ssssscccccgvyvyv\n"
     ]
    },
    {
     "data": {
      "text/plain": [
       "5"
      ]
     },
     "execution_count": 54,
     "metadata": {},
     "output_type": "execute_result"
    }
   ],
   "source": [
    "s=input(\"enter username:\")\n",
    "char='s'\n",
    "s.count(char)"
   ]
  },
  {
   "cell_type": "code",
   "execution_count": 55,
   "id": "f252e95c",
   "metadata": {},
   "outputs": [
    {
     "name": "stdout",
     "output_type": "stream",
     "text": [
      "enter username:gawade\n",
      "what would u like to remove : d\n",
      "gawae\n"
     ]
    }
   ],
   "source": [
    "s=input(\"enter username:\")\n",
    "x=input(\"what would u like to remove : \")\n",
    "str=\"\"\n",
    "for i in s:\n",
    "    if i==x:\n",
    "        continue\n",
    "    else:\n",
    "        str=str+i;\n",
    "print(str)"
   ]
  },
  {
   "cell_type": "code",
   "execution_count": 64,
   "id": "4223db5d",
   "metadata": {},
   "outputs": [
    {
     "name": "stdout",
     "output_type": "stream",
     "text": [
      "enter string:askksi\n",
      "not a palindrome\n"
     ]
    }
   ],
   "source": [
    "s=input(\"enter string:\")\n",
    "for i in range(0,len(s)//2):\n",
    "    if(s[i]!=s[len(s)-1-i]):\n",
    "        print(\"not a palindrome\")\n",
    "        break;\n",
    "else:\n",
    "    print(\"palindrome\")"
   ]
  },
  {
   "cell_type": "code",
   "execution_count": 65,
   "id": "58703bce",
   "metadata": {},
   "outputs": [
    {
     "name": "stdout",
     "output_type": "stream",
     "text": [
      "enter string : how are you \n",
      "['how', 'are', 'you']\n"
     ]
    }
   ],
   "source": [
    "s=input(\"enter string : \")\n",
    "temp=\"\";\n",
    "l=[]\n",
    "for i in s:\n",
    "    if i!=' ':\n",
    "        temp=temp+ i\n",
    "    else:\n",
    "        l.append(temp)\n",
    "        temp=\"\"\n",
    "        \n",
    "print(l)"
   ]
  },
  {
   "cell_type": "code",
   "execution_count": 68,
   "id": "006ca8f3",
   "metadata": {},
   "outputs": [
    {
     "name": "stdout",
     "output_type": "stream",
     "text": [
      "enter number:123\n",
      "123\n"
     ]
    }
   ],
   "source": [
    "n=int(input(\"enter number:\"))\n",
    "s='0123456789'\n",
    "result=''\n",
    "while n>0:\n",
    "    result=s[n%10]+result\n",
    "    n=n//10\n",
    "print(result)"
   ]
  },
  {
   "cell_type": "code",
   "execution_count": null,
   "id": "6e8ee5a7",
   "metadata": {},
   "outputs": [],
   "source": []
  }
 ],
 "metadata": {
  "kernelspec": {
   "display_name": "Python 3 (ipykernel)",
   "language": "python",
   "name": "python3"
  },
  "language_info": {
   "codemirror_mode": {
    "name": "ipython",
    "version": 3
   },
   "file_extension": ".py",
   "mimetype": "text/x-python",
   "name": "python",
   "nbconvert_exporter": "python",
   "pygments_lexer": "ipython3",
   "version": "3.10.9"
  }
 },
 "nbformat": 4,
 "nbformat_minor": 5
}
