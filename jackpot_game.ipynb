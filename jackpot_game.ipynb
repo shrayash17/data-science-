{
 "cells": [
  {
   "cell_type": "markdown",
   "id": "c6056fb9",
   "metadata": {},
   "source": [
    "# jackpot game "
   ]
  },
  {
   "cell_type": "code",
   "execution_count": 4,
   "id": "1baf4292",
   "metadata": {},
   "outputs": [
    {
     "name": "stdout",
     "output_type": "stream",
     "text": [
      "enter number :23\n",
      "guess higher\n",
      "enter number :50\n",
      "guess higher\n",
      "enter number :60\n",
      "guess higher\n",
      "enter number :66\n",
      "guess higher\n",
      "enter number :80\n",
      "guess lower\n",
      "enter number :75\n",
      "guess higher\n",
      "enter number :79\n",
      "guess lower\n",
      "enter number :76\n",
      "guess higher\n",
      "enter number :77\n",
      "guess higher\n",
      "enter number :78\n",
      "correct\n",
      "10\n"
     ]
    }
   ],
   "source": [
    "# generate random number \n",
    "\n",
    "import random \n",
    "\n",
    "jackpot  = random.randint(1,100)\n",
    "\n",
    "\n",
    "n = int(input(\"enter number :\"))\n",
    "count=1;\n",
    "while n!=jackpot:\n",
    "    if n<jackpot:\n",
    "        print(\"guess higher\")\n",
    "    else:\n",
    "        print(\"guess lower\")\n",
    "    count=count+1;\n",
    "    n = int(input(\"enter number :\"))\n",
    "else:\n",
    "    print(\"correct\")\n",
    "    print(count)\n",
    "    "
   ]
  },
  {
   "cell_type": "code",
   "execution_count": null,
   "id": "045123c4",
   "metadata": {},
   "outputs": [],
   "source": []
  }
 ],
 "metadata": {
  "kernelspec": {
   "display_name": "Python 3 (ipykernel)",
   "language": "python",
   "name": "python3"
  },
  "language_info": {
   "codemirror_mode": {
    "name": "ipython",
    "version": 3
   },
   "file_extension": ".py",
   "mimetype": "text/x-python",
   "name": "python",
   "nbconvert_exporter": "python",
   "pygments_lexer": "ipython3",
   "version": "3.10.9"
  }
 },
 "nbformat": 4,
 "nbformat_minor": 5
}
