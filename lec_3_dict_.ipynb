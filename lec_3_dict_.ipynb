{
 "cells": [
  {
   "cell_type": "code",
   "execution_count": 1,
   "id": "a883f916",
   "metadata": {},
   "outputs": [
    {
     "name": "stdout",
     "output_type": "stream",
     "text": [
      "{}\n"
     ]
    }
   ],
   "source": [
    "# dict are mutable \n",
    "\n",
    "\n",
    "# creation of dict \n",
    "d1={}\n",
    "\n",
    "print(d1)"
   ]
  },
  {
   "cell_type": "code",
   "execution_count": 2,
   "id": "418d7555",
   "metadata": {},
   "outputs": [
    {
     "data": {
      "text/plain": [
       "dict"
      ]
     },
     "execution_count": 2,
     "metadata": {},
     "output_type": "execute_result"
    }
   ],
   "source": [
    "type(d1)"
   ]
  },
  {
   "cell_type": "code",
   "execution_count": 5,
   "id": "ca85b841",
   "metadata": {},
   "outputs": [],
   "source": [
    "# to create using dict constructer we need list of tuples \n",
    "\n",
    "\n",
    "d1=dict([('name','shrayash') , ('age',23)])"
   ]
  },
  {
   "cell_type": "code",
   "execution_count": 6,
   "id": "4e4c2e63",
   "metadata": {},
   "outputs": [
    {
     "name": "stdout",
     "output_type": "stream",
     "text": [
      "{'name': 'shrayash', 'age': 23}\n"
     ]
    }
   ],
   "source": [
    "print(d1)"
   ]
  },
  {
   "cell_type": "code",
   "execution_count": 7,
   "id": "7a3481b2",
   "metadata": {},
   "outputs": [],
   "source": [
    "d2={\n",
    "    'name':'shrayash',\n",
    "    'age':22,\n",
    "    'subjects':{\n",
    "        'dsa':28,\n",
    "        'maths':59\n",
    "    }\n",
    "}"
   ]
  },
  {
   "cell_type": "code",
   "execution_count": 8,
   "id": "36a75e7f",
   "metadata": {},
   "outputs": [
    {
     "name": "stdout",
     "output_type": "stream",
     "text": [
      "{'name': 'shrayash', 'age': 22, 'subjects': {'dsa': 28, 'maths': 59}}\n"
     ]
    }
   ],
   "source": [
    "print(d2)"
   ]
  },
  {
   "cell_type": "code",
   "execution_count": 9,
   "id": "307668c3",
   "metadata": {},
   "outputs": [],
   "source": [
    "d3={'name':'shrayash' , 'name':'gawade'}"
   ]
  },
  {
   "cell_type": "code",
   "execution_count": 10,
   "id": "41bc679d",
   "metadata": {},
   "outputs": [
    {
     "data": {
      "text/plain": [
       "{'name': 'gawade'}"
      ]
     },
     "execution_count": 10,
     "metadata": {},
     "output_type": "execute_result"
    }
   ],
   "source": [
    "d3"
   ]
  },
  {
   "cell_type": "code",
   "execution_count": 11,
   "id": "cf36c637",
   "metadata": {},
   "outputs": [
    {
     "ename": "TypeError",
     "evalue": "unhashable type: 'list'",
     "output_type": "error",
     "traceback": [
      "\u001b[1;31m---------------------------------------------------------------------------\u001b[0m",
      "\u001b[1;31mTypeError\u001b[0m                                 Traceback (most recent call last)",
      "Cell \u001b[1;32mIn[11], line 3\u001b[0m\n\u001b[0;32m      1\u001b[0m \u001b[38;5;66;03m# mutable objects not allowed \u001b[39;00m\n\u001b[1;32m----> 3\u001b[0m d4\u001b[38;5;241m=\u001b[39m{\u001b[38;5;124m'\u001b[39m\u001b[38;5;124mname\u001b[39m\u001b[38;5;124m'\u001b[39m:\u001b[38;5;124m'\u001b[39m\u001b[38;5;124mshrayash\u001b[39m\u001b[38;5;124m'\u001b[39m, (\u001b[38;5;241m1\u001b[39m,\u001b[38;5;241m2\u001b[39m,\u001b[38;5;241m3\u001b[39m):\u001b[38;5;241m5\u001b[39m, [\u001b[38;5;241m1\u001b[39m,\u001b[38;5;241m2\u001b[39m,\u001b[38;5;241m3\u001b[39m]:\u001b[38;5;241m56\u001b[39m}\n",
      "\u001b[1;31mTypeError\u001b[0m: unhashable type: 'list'"
     ]
    }
   ],
   "source": [
    "# mutable objects not allowed \n",
    "\n",
    "d4={'name':'shrayash', (1,2,3):5, [1,2,3]:56}"
   ]
  },
  {
   "cell_type": "code",
   "execution_count": 12,
   "id": "c15c555f",
   "metadata": {},
   "outputs": [],
   "source": [
    "d4={'name':'shrayash', (1,2,3):5}"
   ]
  },
  {
   "cell_type": "code",
   "execution_count": 13,
   "id": "482de7cc",
   "metadata": {},
   "outputs": [
    {
     "data": {
      "text/plain": [
       "{'name': 'shrayash', (1, 2, 3): 5}"
      ]
     },
     "execution_count": 13,
     "metadata": {},
     "output_type": "execute_result"
    }
   ],
   "source": [
    "d4"
   ]
  },
  {
   "cell_type": "code",
   "execution_count": 14,
   "id": "5786b383",
   "metadata": {},
   "outputs": [
    {
     "data": {
      "text/plain": [
       "'shrayash'"
      ]
     },
     "execution_count": 14,
     "metadata": {},
     "output_type": "execute_result"
    }
   ],
   "source": [
    "d4['name']"
   ]
  },
  {
   "cell_type": "code",
   "execution_count": 15,
   "id": "011c2d8c",
   "metadata": {},
   "outputs": [
    {
     "data": {
      "text/plain": [
       "5"
      ]
     },
     "execution_count": 15,
     "metadata": {},
     "output_type": "execute_result"
    }
   ],
   "source": [
    "d4[(1,2,3)]"
   ]
  },
  {
   "cell_type": "code",
   "execution_count": 18,
   "id": "a1f8301a",
   "metadata": {},
   "outputs": [
    {
     "name": "stdout",
     "output_type": "stream",
     "text": [
      "5\n"
     ]
    }
   ],
   "source": [
    "print(d4.get((1,2,3)))"
   ]
  },
  {
   "cell_type": "code",
   "execution_count": 21,
   "id": "c7d2ed38",
   "metadata": {},
   "outputs": [],
   "source": [
    "d4['height']:14"
   ]
  },
  {
   "cell_type": "code",
   "execution_count": 22,
   "id": "c02d0e95",
   "metadata": {},
   "outputs": [
    {
     "data": {
      "text/plain": [
       "{'name': 'shrayash', (1, 2, 3): 5}"
      ]
     },
     "execution_count": 22,
     "metadata": {},
     "output_type": "execute_result"
    }
   ],
   "source": [
    "d4"
   ]
  },
  {
   "cell_type": "code",
   "execution_count": 23,
   "id": "ac901a6e",
   "metadata": {},
   "outputs": [],
   "source": [
    "# adding new key value pair \n",
    "\n",
    "d4['height']=14"
   ]
  },
  {
   "cell_type": "code",
   "execution_count": 24,
   "id": "97569757",
   "metadata": {},
   "outputs": [
    {
     "data": {
      "text/plain": [
       "{'name': 'shrayash', (1, 2, 3): 5, 'height': 14}"
      ]
     },
     "execution_count": 24,
     "metadata": {},
     "output_type": "execute_result"
    }
   ],
   "source": [
    "d4"
   ]
  },
  {
   "cell_type": "code",
   "execution_count": 25,
   "id": "42ea8146",
   "metadata": {},
   "outputs": [
    {
     "data": {
      "text/plain": [
       "14"
      ]
     },
     "execution_count": 25,
     "metadata": {},
     "output_type": "execute_result"
    }
   ],
   "source": [
    "# delete a dict \n",
    "\n",
    "# 1) pop \n",
    "\n",
    "d4.pop('height')\n",
    "\n"
   ]
  },
  {
   "cell_type": "code",
   "execution_count": 26,
   "id": "20f025f6",
   "metadata": {},
   "outputs": [
    {
     "data": {
      "text/plain": [
       "((1, 2, 3), 5)"
      ]
     },
     "execution_count": 26,
     "metadata": {},
     "output_type": "execute_result"
    }
   ],
   "source": [
    "# pop item -> it delete last element in list \n",
    "\n",
    "d4.popitem()"
   ]
  },
  {
   "cell_type": "code",
   "execution_count": 27,
   "id": "b4442668",
   "metadata": {},
   "outputs": [],
   "source": [
    "d2={'name':'shrayash' , 'age':18 , 'gender':'male'}"
   ]
  },
  {
   "cell_type": "code",
   "execution_count": 28,
   "id": "07d295a6",
   "metadata": {},
   "outputs": [
    {
     "data": {
      "text/plain": [
       "['age', 'gender', 'name']"
      ]
     },
     "execution_count": 28,
     "metadata": {},
     "output_type": "execute_result"
    }
   ],
   "source": [
    "sorted(d2)"
   ]
  },
  {
   "cell_type": "code",
   "execution_count": 29,
   "id": "c12ad1bb",
   "metadata": {},
   "outputs": [
    {
     "name": "stdout",
     "output_type": "stream",
     "text": [
      "dict_items([('name', 'shrayash'), ('age', 18), ('gender', 'male')])\n"
     ]
    }
   ],
   "source": [
    "print(d2.items())"
   ]
  },
  {
   "cell_type": "code",
   "execution_count": 30,
   "id": "405e80c0",
   "metadata": {},
   "outputs": [
    {
     "data": {
      "text/plain": [
       "{1: 1, 2: 4, 3: 9, 4: 16, 5: 25, 6: 36, 7: 49, 8: 64, 9: 81, 10: 100}"
      ]
     },
     "execution_count": 30,
     "metadata": {},
     "output_type": "execute_result"
    }
   ],
   "source": [
    "{i : i*i for i in range(1,11)}"
   ]
  },
  {
   "cell_type": "code",
   "execution_count": 31,
   "id": "4f739d33",
   "metadata": {},
   "outputs": [
    {
     "data": {
      "text/plain": [
       "{'delhi': 1240.0, 'goa': 744.0, 'nepal': 2790.0}"
      ]
     },
     "execution_count": 31,
     "metadata": {},
     "output_type": "execute_result"
    }
   ],
   "source": [
    "d4={'delhi':2000 , 'goa':1200 , 'nepal' : 4500}\n",
    "\n",
    "{key:value*0.62 for (key,value) in d4.items()}"
   ]
  },
  {
   "cell_type": "code",
   "execution_count": 33,
   "id": "2a42d4ab",
   "metadata": {},
   "outputs": [
    {
     "data": {
      "text/plain": [
       "{1.1: 0.1, 2.2: 0.2, 3.3: 0.3}"
      ]
     },
     "execution_count": 33,
     "metadata": {},
     "output_type": "execute_result"
    }
   ],
   "source": [
    "d1={1:1.1 , 2:2.2 , 3:3.3 }\n",
    "d2={1:0.1 , 2:0.2 , 3:0.3 }\n",
    "\n",
    "d3=dict(zip(d1.values(),d2.values()))\n",
    "d3"
   ]
  },
  {
   "cell_type": "code",
   "execution_count": 34,
   "id": "5ad66e82",
   "metadata": {},
   "outputs": [],
   "source": [
    "l1=[1,2,3,4,5,6]\n",
    "l2=['shrayash' , 'gawade ']\n",
    "\n",
    "d3=dict(zip(l1,l2))"
   ]
  },
  {
   "cell_type": "code",
   "execution_count": 36,
   "id": "5047bc8b",
   "metadata": {},
   "outputs": [
    {
     "data": {
      "text/plain": [
       "{1: 'shrayash', 2: 'gawade '}"
      ]
     },
     "execution_count": 36,
     "metadata": {},
     "output_type": "execute_result"
    }
   ],
   "source": [
    "\n",
    "{i:j for i,j in zip(l1,l2)}\n"
   ]
  },
  {
   "cell_type": "code",
   "execution_count": null,
   "id": "f344e01d",
   "metadata": {},
   "outputs": [],
   "source": []
  }
 ],
 "metadata": {
  "kernelspec": {
   "display_name": "Python 3 (ipykernel)",
   "language": "python",
   "name": "python3"
  },
  "language_info": {
   "codemirror_mode": {
    "name": "ipython",
    "version": 3
   },
   "file_extension": ".py",
   "mimetype": "text/x-python",
   "name": "python",
   "nbconvert_exporter": "python",
   "pygments_lexer": "ipython3",
   "version": "3.10.9"
  }
 },
 "nbformat": 4,
 "nbformat_minor": 5
}
