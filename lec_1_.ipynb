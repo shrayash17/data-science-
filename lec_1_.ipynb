{
 "cells": [
  {
   "cell_type": "markdown",
   "id": "9b7215ab",
   "metadata": {},
   "source": [
    "# OUTPUT -> print()      parameter-> sep ->\" \"   && end -> \"\\n\" "
   ]
  },
  {
   "cell_type": "code",
   "execution_count": 3,
   "id": "0f17ab95",
   "metadata": {},
   "outputs": [
    {
     "name": "stdout",
     "output_type": "stream",
     "text": [
      "hello 1 4.5 True\n"
     ]
    }
   ],
   "source": [
    "print('hello', 1,4.5, True)"
   ]
  },
  {
   "cell_type": "code",
   "execution_count": 4,
   "id": "6d10a098",
   "metadata": {},
   "outputs": [
    {
     "name": "stdout",
     "output_type": "stream",
     "text": [
      "hello/1/5.1/True\n"
     ]
    }
   ],
   "source": [
    "print('hello',1,5.10,True,sep=\"/\")"
   ]
  },
  {
   "cell_type": "code",
   "execution_count": 6,
   "id": "c1926bfc",
   "metadata": {},
   "outputs": [
    {
     "name": "stdout",
     "output_type": "stream",
     "text": [
      "hello*True*False\thello 1 4.5 True\n"
     ]
    }
   ],
   "source": [
    "print('hello',True , False , sep=\"*\",end=\"\\t\")\n",
    "print('hello', 1,4.5, True)"
   ]
  },
  {
   "cell_type": "markdown",
   "id": "d1e24817",
   "metadata": {},
   "source": [
    "# datatypes in python"
   ]
  },
  {
   "cell_type": "code",
   "execution_count": 7,
   "id": "90fe550c",
   "metadata": {},
   "outputs": [
    {
     "name": "stdout",
     "output_type": "stream",
     "text": [
      "8\n"
     ]
    },
    {
     "data": {
      "text/plain": [
       "int"
      ]
     },
     "execution_count": 7,
     "metadata": {},
     "output_type": "execute_result"
    }
   ],
   "source": [
    "print(8)\n",
    "type(8)"
   ]
  },
  {
   "cell_type": "code",
   "execution_count": 8,
   "id": "0f03dbcc",
   "metadata": {},
   "outputs": [
    {
     "name": "stdout",
     "output_type": "stream",
     "text": [
      "4.5\n"
     ]
    },
    {
     "data": {
      "text/plain": [
       "float"
      ]
     },
     "execution_count": 8,
     "metadata": {},
     "output_type": "execute_result"
    }
   ],
   "source": [
    "print(4.5)\n",
    "type(4.5)"
   ]
  },
  {
   "cell_type": "code",
   "execution_count": 9,
   "id": "d9a7685d",
   "metadata": {},
   "outputs": [
    {
     "name": "stdout",
     "output_type": "stream",
     "text": [
      "True\n"
     ]
    },
    {
     "data": {
      "text/plain": [
       "bool"
      ]
     },
     "execution_count": 9,
     "metadata": {},
     "output_type": "execute_result"
    }
   ],
   "source": [
    "print(True)\n",
    "type(True)"
   ]
  },
  {
   "cell_type": "code",
   "execution_count": 10,
   "id": "11b142fd",
   "metadata": {},
   "outputs": [
    {
     "name": "stdout",
     "output_type": "stream",
     "text": [
      "hello\n"
     ]
    },
    {
     "data": {
      "text/plain": [
       "str"
      ]
     },
     "execution_count": 10,
     "metadata": {},
     "output_type": "execute_result"
    }
   ],
   "source": [
    "print(\"hello\")\n",
    "type(\"hello\")"
   ]
  },
  {
   "cell_type": "code",
   "execution_count": 11,
   "id": "15c9ba6e",
   "metadata": {},
   "outputs": [
    {
     "data": {
      "text/plain": [
       "list"
      ]
     },
     "execution_count": 11,
     "metadata": {},
     "output_type": "execute_result"
    }
   ],
   "source": [
    "l=[1,2,3]\n",
    "type(l)"
   ]
  },
  {
   "cell_type": "code",
   "execution_count": 12,
   "id": "21b192ad",
   "metadata": {},
   "outputs": [
    {
     "data": {
      "text/plain": [
       "tuple"
      ]
     },
     "execution_count": 12,
     "metadata": {},
     "output_type": "execute_result"
    }
   ],
   "source": [
    "tupl=(1,2,3)\n",
    "type(tupl)"
   ]
  },
  {
   "cell_type": "code",
   "execution_count": 13,
   "id": "48bb0483",
   "metadata": {},
   "outputs": [
    {
     "name": "stdout",
     "output_type": "stream",
     "text": [
      "{1, 2, 3}\n"
     ]
    }
   ],
   "source": [
    "set={1,2,3}\n",
    "print(set)"
   ]
  },
  {
   "cell_type": "code",
   "execution_count": 16,
   "id": "6ea0c408",
   "metadata": {},
   "outputs": [],
   "source": [
    "dict={'name':'shrayash','age':17, 'gender':'male'}"
   ]
  },
  {
   "cell_type": "code",
   "execution_count": 17,
   "id": "6c8ab6ba",
   "metadata": {},
   "outputs": [
    {
     "name": "stdout",
     "output_type": "stream",
     "text": [
      "{'name': 'shrayash', 'age': 17, 'gender': 'male'}\n"
     ]
    }
   ],
   "source": [
    "print(dict)"
   ]
  },
  {
   "cell_type": "markdown",
   "id": "5c9af1bb",
   "metadata": {},
   "source": [
    "# dynamic typing   in python \n",
    "\n",
    "a=5 \n",
    "\n",
    "# static typing in c/c++ \n",
    "\n",
    "int a = 5\n",
    "\n",
    "# dynamic binding in python \n",
    "\n",
    "a = 'yash'\n",
    "a=10\n",
    "\n",
    "print(a) = 10 \n",
    "\n",
    "# static binding in c/c++ \n",
    "int a = 10  ; \n",
    "a = 10.0 but still int conversion \n",
    "\n"
   ]
  },
  {
   "cell_type": "markdown",
   "id": "5d3ee657",
   "metadata": {},
   "source": [
    "# variable declaration \n",
    "\n"
   ]
  },
  {
   "cell_type": "code",
   "execution_count": 18,
   "id": "582101e3",
   "metadata": {},
   "outputs": [
    {
     "name": "stdout",
     "output_type": "stream",
     "text": [
      "1 2 3\n"
     ]
    }
   ],
   "source": [
    "a,b,c=1,2,3\n",
    "print(a,b,c)"
   ]
  },
  {
   "cell_type": "code",
   "execution_count": 19,
   "id": "c6b37009",
   "metadata": {},
   "outputs": [
    {
     "name": "stdout",
     "output_type": "stream",
     "text": [
      "5 5 5\n"
     ]
    }
   ],
   "source": [
    "a=b=c=5;\n",
    "print(a,b,c)"
   ]
  },
  {
   "cell_type": "markdown",
   "id": "d578fd44",
   "metadata": {},
   "source": [
    "# compilation :   process of converting english to binary language is known as compilation   \n",
    "\n",
    "# compiler : it do compilation of whole program in one go and interupts if error is there \n",
    "\n",
    "# interprete do compilation line by line and stop compilation at line at which error happen \n",
    "\n",
    "# keywords are words reserve by interpretro to help it in compilation process "
   ]
  },
  {
   "cell_type": "markdown",
   "id": "703afcd9",
   "metadata": {},
   "source": [
    "# identifier : they are names given to elements of program such as variable function and later use to identify this elments "
   ]
  },
  {
   "cell_type": "code",
   "execution_count": 20,
   "id": "dad2bbb0",
   "metadata": {},
   "outputs": [
    {
     "name": "stdout",
     "output_type": "stream",
     "text": [
      "enter number : 2\n",
      "enter number : 3\n",
      "5\n"
     ]
    }
   ],
   "source": [
    "a = int(input(\"enter number : \"))\n",
    "b=int(input(\"enter number : \"))\n",
    "\n",
    "print(a+b)\n"
   ]
  },
  {
   "cell_type": "markdown",
   "id": "14d4dfb3",
   "metadata": {},
   "source": [
    "# by default it take string values in input    reason : string is universal we can store int in string but not vice versa "
   ]
  },
  {
   "cell_type": "markdown",
   "id": "cbd7d92b",
   "metadata": {},
   "source": [
    "# type conversion :  does not create permanent changes in data \n",
    "\n",
    "# implict : done by interpreter \n",
    "\n",
    "# explict : externallay user did "
   ]
  },
  {
   "cell_type": "markdown",
   "id": "fb5cfdb4",
   "metadata": {},
   "source": [
    "# variables : are container use to store values \n",
    "\n",
    "# literals are those values which we assign to the variables "
   ]
  },
  {
   "cell_type": "markdown",
   "id": "7e0fcc2f",
   "metadata": {},
   "source": [
    "# in type casting permanent chnges take place   # in type conversion temp chnages take place "
   ]
  },
  {
   "cell_type": "code",
   "execution_count": null,
   "id": "26ffc70d",
   "metadata": {},
   "outputs": [],
   "source": []
  }
 ],
 "metadata": {
  "kernelspec": {
   "display_name": "Python 3 (ipykernel)",
   "language": "python",
   "name": "python3"
  },
  "language_info": {
   "codemirror_mode": {
    "name": "ipython",
    "version": 3
   },
   "file_extension": ".py",
   "mimetype": "text/x-python",
   "name": "python",
   "nbconvert_exporter": "python",
   "pygments_lexer": "ipython3",
   "version": "3.10.9"
  }
 },
 "nbformat": 4,
 "nbformat_minor": 5
}
