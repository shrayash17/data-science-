{
 "cells": [
  {
   "cell_type": "code",
   "execution_count": 47,
   "id": "07eb8a80",
   "metadata": {},
   "outputs": [],
   "source": [
    "class Point:\n",
    "    def __init__(self,x,y):\n",
    "        self.x_chor=x\n",
    "        self.y_chor=y\n",
    "        \n",
    "    def __str__(self):\n",
    "        return '<{},{}>'.format(self.x_chor,self.y_chor)\n",
    "    \n",
    "    def euclidean(self,other):\n",
    "        return ((self.x_chor-other.x_chor)**2+(self.y_chor-other.y_chor)**2)**0.5\n",
    "    \n",
    "    def origin(self):\n",
    "        return (self.x_chor**2+self.y_chor**2)**0.5\n",
    "    \n",
    "    \n",
    "class Line:\n",
    "    def __init__(self,a,b,c):\n",
    "        self.a=a\n",
    "        self.b=b\n",
    "        self.c=c\n",
    "        \n",
    "        \n",
    "    def __str__(self):\n",
    "        return '{}x + {}y +{} =0'.format(self.a,self.b,self.c)\n",
    "    \n",
    "    \n",
    "    def point_on_line(self,point):\n",
    "        if self.a*point.x_chor+self.b*point.y_chor+self.c==0 :\n",
    "            print(\"on line\")\n",
    "        else:\n",
    "            print(\"not on line\")"
   ]
  },
  {
   "cell_type": "code",
   "execution_count": 43,
   "id": "e87b8a3c",
   "metadata": {},
   "outputs": [],
   "source": [
    "p=Point(3,4)"
   ]
  },
  {
   "cell_type": "code",
   "execution_count": 29,
   "id": "fda01953",
   "metadata": {},
   "outputs": [
    {
     "name": "stdout",
     "output_type": "stream",
     "text": [
      "<3,4>\n"
     ]
    }
   ],
   "source": [
    "print(p)"
   ]
  },
  {
   "cell_type": "code",
   "execution_count": 30,
   "id": "0a883634",
   "metadata": {},
   "outputs": [
    {
     "data": {
      "text/plain": [
       "<__main__.Point at 0x2919cf2b1c0>"
      ]
     },
     "execution_count": 30,
     "metadata": {},
     "output_type": "execute_result"
    }
   ],
   "source": [
    "obj1"
   ]
  },
  {
   "cell_type": "code",
   "execution_count": 31,
   "id": "f1db3c50",
   "metadata": {},
   "outputs": [
    {
     "name": "stdout",
     "output_type": "stream",
     "text": [
      "<1,1>\n"
     ]
    }
   ],
   "source": [
    "p2=Point(1,1)\n",
    "print(p2)"
   ]
  },
  {
   "cell_type": "code",
   "execution_count": 33,
   "id": "3e305696",
   "metadata": {
    "scrolled": true
   },
   "outputs": [
    {
     "name": "stdout",
     "output_type": "stream",
     "text": [
      "14.142135623730951\n"
     ]
    }
   ],
   "source": [
    "p1=Point(0,0)\n",
    "p2=Point(10,10)\n",
    "print(p1.euclidean(p2))"
   ]
  },
  {
   "cell_type": "code",
   "execution_count": 35,
   "id": "8fab6ca1",
   "metadata": {},
   "outputs": [],
   "source": [
    "p3=Point(10,10)"
   ]
  },
  {
   "cell_type": "code",
   "execution_count": 36,
   "id": "6dd3317e",
   "metadata": {},
   "outputs": [
    {
     "data": {
      "text/plain": [
       "14.142135623730951"
      ]
     },
     "execution_count": 36,
     "metadata": {},
     "output_type": "execute_result"
    }
   ],
   "source": [
    "p3.origin()"
   ]
  },
  {
   "cell_type": "code",
   "execution_count": 45,
   "id": "35a49e8a",
   "metadata": {},
   "outputs": [
    {
     "name": "stdout",
     "output_type": "stream",
     "text": [
      "2x + 3y +5 =0\n"
     ]
    }
   ],
   "source": [
    "l1=Line(2,3,5)\n",
    "print(l1)"
   ]
  },
  {
   "cell_type": "code",
   "execution_count": 48,
   "id": "e54aff1a",
   "metadata": {},
   "outputs": [
    {
     "name": "stdout",
     "output_type": "stream",
     "text": [
      "on line\n"
     ]
    }
   ],
   "source": [
    "p1=Point(1,1)\n",
    "l=Line(1,1,-2)\n",
    "\n",
    "l.point_on_line(p1)"
   ]
  },
  {
   "cell_type": "code",
   "execution_count": 49,
   "id": "d17714c6",
   "metadata": {},
   "outputs": [],
   "source": [
    "# new class object "
   ]
  },
  {
   "cell_type": "code",
   "execution_count": 54,
   "id": "30d16c49",
   "metadata": {},
   "outputs": [
    {
     "name": "stdout",
     "output_type": "stream",
     "text": [
      "hello shrayash\n"
     ]
    }
   ],
   "source": [
    "class Person:\n",
    "    def __init__(self,name,country):\n",
    "        self.name=name\n",
    "        self.country=country\n",
    "        \n",
    "    def greet(self):\n",
    "        if self.country=='india':\n",
    "            print('Namaste {}'.format(self.name))\n",
    "        else :\n",
    "            print('hello {}'.format(self.name))\n",
    "            \n",
    "            \n",
    "p1=Person('shrayash','pakisthan')\n",
    "p1.greet()\n",
    "\n",
    "p1.gender='male'"
   ]
  },
  {
   "cell_type": "code",
   "execution_count": null,
   "id": "35e5c0d6",
   "metadata": {},
   "outputs": [],
   "source": []
  }
 ],
 "metadata": {
  "kernelspec": {
   "display_name": "Python 3 (ipykernel)",
   "language": "python",
   "name": "python3"
  },
  "language_info": {
   "codemirror_mode": {
    "name": "ipython",
    "version": 3
   },
   "file_extension": ".py",
   "mimetype": "text/x-python",
   "name": "python",
   "nbconvert_exporter": "python",
   "pygments_lexer": "ipython3",
   "version": "3.10.9"
  }
 },
 "nbformat": 4,
 "nbformat_minor": 5
}
